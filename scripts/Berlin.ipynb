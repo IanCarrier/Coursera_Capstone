{
 "cells": [
  {
   "cell_type": "markdown",
   "id": "2e521421-dcbf-42de-ad62-26f22bb08ba1",
   "metadata": {},
   "source": [
    "# Berlin relocation"
   ]
  },
  {
   "cell_type": "markdown",
   "id": "e81b97c8-0eb8-4ca5-b09a-d8e959af3768",
   "metadata": {},
   "source": [
    "My wife and I will be relocating to Berlin in two month's time and being unfamiliar with the city we would like recommendations on the best places to live within the city. For my final Capstone project, I will be using foursquare data to review the different options along with (if obtainable) rental price information for each region to help decide upon an optimum, affordable place to live."
   ]
  },
  {
   "cell_type": "markdown",
   "id": "16b2971f-b2f0-4bc2-bb6b-197f03ff65ee",
   "metadata": {},
   "source": [
    "### Source data"
   ]
  },
  {
   "cell_type": "markdown",
   "id": "2b509ec0-15cc-4d1f-89ce-a7116673cddb",
   "metadata": {},
   "source": [
    "The data I intend to use to help me complete this task includes:\n",
    " - **Foursquare's** geolocation data of Berlin's amenities\n",
    " - **Immo scout's** rental prices for cities across Germany\n",
    " - **Geospatial** coordinates for the boroughs of Berlin\n",
    " - My wife and my preferences for nearby **amenities**"
   ]
  },
  {
   "cell_type": "code",
   "execution_count": null,
   "id": "00e313d3-418a-4ad4-9e82-2027e1a2a671",
   "metadata": {},
   "outputs": [],
   "source": []
  }
 ],
 "metadata": {
  "kernelspec": {
   "display_name": "Python 3",
   "language": "python",
   "name": "python3"
  },
  "language_info": {
   "codemirror_mode": {
    "name": "ipython",
    "version": 3
   },
   "file_extension": ".py",
   "mimetype": "text/x-python",
   "name": "python",
   "nbconvert_exporter": "python",
   "pygments_lexer": "ipython3",
   "version": "3.8.5"
  }
 },
 "nbformat": 4,
 "nbformat_minor": 5
}
